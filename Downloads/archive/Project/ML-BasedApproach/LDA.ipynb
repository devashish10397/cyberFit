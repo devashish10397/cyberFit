{
 "cells": [
  {
   "cell_type": "code",
   "execution_count": 5,
   "id": "b3cf8254",
   "metadata": {},
   "outputs": [],
   "source": [
    "#Collect and preprocess the dataset"
   ]
  },
  {
   "cell_type": "code",
   "execution_count": 16,
   "id": "88658336",
   "metadata": {},
   "outputs": [],
   "source": [
    "import numpy as np\n",
    "import pandas as pd\n",
    "import cv2\n",
    "from sklearn.model_selection import train_test_split\n",
    "from sklearn.discriminant_analysis import LinearDiscriminantAnalysis\n",
    "from sklearn.metrics import accuracy_score"
   ]
  },
  {
   "cell_type": "code",
   "execution_count": 19,
   "id": "82269a0a",
   "metadata": {},
   "outputs": [
    {
     "name": "stdout",
     "output_type": "stream",
     "text": [
      "Accuracy on test set: 0.3259028087382969\n"
     ]
    }
   ],
   "source": [
    "\n",
    "\n",
    "# Load the dataset\n",
    "data = pd.read_csv('fer2013.csv')\n",
    "\n",
    "# Preprocess the images\n",
    "def preprocess_images(images):\n",
    "    images = np.array([np.fromstring(image, dtype=int, sep=' ').reshape(48, 48) for image in images])\n",
    "    images = np.expand_dims(images, axis=-1)\n",
    "    images = images / 255.0\n",
    "    return images\n",
    "\n",
    "X = preprocess_images(data['pixels'])\n",
    "y = data['emotion']\n",
    "\n",
    "# Split the dataset into training and testing sets\n",
    "X_train, X_test, y_train, y_test = train_test_split(X, y, test_size=0.5)\n",
    "\n",
    "# Train Linear Discriminant Analysis (LDA) model\n",
    "lda = LinearDiscriminantAnalysis()\n",
    "X_train_lda = lda.fit_transform(X_train.reshape(X_train.shape[0], X_train.shape[1]*X_train.shape[2]), y_train)\n",
    "X_test_lda = lda.transform(X_test.reshape(X_test.shape[0], X_test.shape[1]*X_test.shape[2]))\n",
    "\n",
    "# Test the model on the test set\n",
    "y_pred = lda.predict(X_test.reshape(X_test.shape[0], X_test.shape[1]*X_test.shape[2]))\n",
    "accuracy = accuracy_score(y_test, y_pred)\n",
    "print(f\"Accuracy on test set: {accuracy}\")\n"
   ]
  }
 ],
 "metadata": {
  "kernelspec": {
   "display_name": "Python 3 (ipykernel)",
   "language": "python",
   "name": "python3"
  },
  "language_info": {
   "codemirror_mode": {
    "name": "ipython",
    "version": 3
   },
   "file_extension": ".py",
   "mimetype": "text/x-python",
   "name": "python",
   "nbconvert_exporter": "python",
   "pygments_lexer": "ipython3",
   "version": "3.9.13"
  }
 },
 "nbformat": 4,
 "nbformat_minor": 5
}
